{
 "cells": [
  {
   "cell_type": "markdown",
   "id": "c771c7e4",
   "metadata": {},
   "source": [
    "# Máquina de turing no determinista que reconoce el lenguaje:\n",
    "$\\{w \\in \\mathbb\\sum^{*}$:w=v#v\\}$"
   ]
  },
  {
   "cell_type": "code",
   "execution_count": 3,
   "id": "b914fd43",
   "metadata": {},
   "outputs": [
    {
     "data": {
      "text/plain": [
       "TMConfiguration('q9', TMTape('xxx#xxx..', 8))"
      ]
     },
     "execution_count": 3,
     "metadata": {},
     "output_type": "execute_result"
    }
   ],
   "source": [
    "from automata.tm.dtm import DTM\n",
    "\n",
    "dtm = DTM(\n",
    "    states={'q1','q2','q3','q4','q5','q6','q7','q8','q9'},\n",
    "    input_symbols={'0','1'},\n",
    "    tape_symbols={'0','1','#','.','x'},\n",
    "    transitions={\n",
    "#####################################################\n",
    "        'q1': {\n",
    "            '1': ('q3', 'x', 'R'),\n",
    "            '0': ('q2', 'x', 'R'),\n",
    "            '#': ('q8', '#', 'R')\n",
    "        },\n",
    "#####################################################\n",
    "        \n",
    "        'q2': {\n",
    "            '0': ('q2', '0', 'R'),\n",
    "            '1': ('q2', '1', 'R'), \n",
    "            '#': ('q4', '#', 'R')     \n",
    "        },\n",
    "#####################################################\n",
    "        'q3': {\n",
    "            '0': ('q3', '0', 'R'),\n",
    "            '1': ('q3', '1', 'R'),\n",
    "            '#': ('q5', '#', 'R')\n",
    "        },\n",
    "#####################################################\n",
    "        'q4': {\n",
    "            'x': ('q4', 'x', 'R'),\n",
    "            '0': ('q6', 'x', 'L')\n",
    "        },\n",
    "#####################################################\n",
    "        'q5': {\n",
    "            'x': ('q5', 'x', 'R'),\n",
    "            '1': ('q6', 'x', 'L')\n",
    "        },\n",
    "#####################################################\n",
    "        'q6': {\n",
    "            '0': ('q6', '0', 'L'),\n",
    "            '1': ('q6', '1', 'L'),\n",
    "            'x': ('q6', 'x', 'L'),\n",
    "            '#': ('q7', '#', 'L')\n",
    "        },\n",
    "#####################################################\n",
    "        'q7': {\n",
    "            'x': ('q1', 'x', 'R'),\n",
    "            '0': ('q7', '0', 'L'),\n",
    "            '1': ('q7', '1', 'L')\n",
    "        },\n",
    "#####################################################\n",
    "        'q8': {\n",
    "            'x': ('q8', 'x', 'R'),\n",
    "            '.': ('q9', '.', 'R')\n",
    "        }, \n",
    "#####################################################          \n",
    "    },\n",
    "    initial_state='q1',\n",
    "    blank_symbol='.',\n",
    "    final_states={'q9'}\n",
    ")\n",
    "\n",
    "    \n",
    "dtm.read_input('100#100')"
   ]
  }
 ],
 "metadata": {
  "kernelspec": {
   "display_name": "Python 3 (ipykernel)",
   "language": "python",
   "name": "python3"
  },
  "language_info": {
   "codemirror_mode": {
    "name": "ipython",
    "version": 3
   },
   "file_extension": ".py",
   "mimetype": "text/x-python",
   "name": "python",
   "nbconvert_exporter": "python",
   "pygments_lexer": "ipython3",
   "version": "3.8.8"
  }
 },
 "nbformat": 4,
 "nbformat_minor": 5
}
