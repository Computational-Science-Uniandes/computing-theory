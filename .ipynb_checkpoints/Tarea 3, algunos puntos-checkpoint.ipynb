{
 "cells": [
  {
   "cell_type": "code",
   "execution_count": null,
   "id": "513961dc-e562-4739-bd3e-5bf8bfd5c0ab",
   "metadata": {},
   "outputs": [],
   "source": [
    "from automata.pda.dpda import DPDA"
   ]
  },
  {
   "cell_type": "markdown",
   "id": "a2ffbd8c-0e31-403b-b754-eca9401187a2",
   "metadata": {},
   "source": [
    " Realice el Problema 2.36 del libro de Sipser: es decir, dé un lenguaje $L$ que no es independiente de contexto, pero que satisface la conclusión del Lema de Bombeo para lenguajes independientes de contexto (``existe un entero $p$ tal que para todo $w \\in L$ de longitud por lo menos $p$, se puede escribir $w = uvxyz$ con $|vxy| \\leq p$, $|vy| > 0$, y $uv^ixy^iz \\in L$ para todo $i \\in \\mathbb{N}$'')."
   ]
  },
  {
   "cell_type": "markdown",
   "id": "7c4622dd-9674-4d43-b158-c7c3ac5401f9",
   "metadata": {
    "execution": {
     "iopub.execute_input": "2022-04-01T19:44:57.181162Z",
     "iopub.status.busy": "2022-04-01T19:44:57.180162Z",
     "iopub.status.idle": "2022-04-01T19:44:57.189161Z",
     "shell.execute_reply": "2022-04-01T19:44:57.188161Z",
     "shell.execute_reply.started": "2022-04-01T19:44:57.181162Z"
    }
   },
   "source": [
    "**Aclaración**\n",
    "\n",
    "Antes de proseguir un dato interesante:\n",
    "\n",
    "''Estos lemas pueden ser usados para determinar si un lenguaje no está en una clase de lenguajes. Sin embargo, no pueden ser usados para determinar si un lenguaje está en una clase, puesto que satisfacer el lema del bombeo es una condición necesaria, pero no una suficiente, para ser miembro de una clase.''(https://es.wikipedia.org/wiki/Lema_del_bombeo#:~:text=En%20la%20teor%C3%ADa%20de%20lenguajes%20formales%20de%20la,con%20la%20cadena%20resultante%20perteneciendo%20a%20ese%20lenguaje.?msclkid=1c2dd871b21611ec85645d9072492544)\n",
    "\n",
    "Lo anterior viene del hecho de que el Lema es una implicación, por ende existen Lenguajes no independientes de contexto o no regulares que cumplen la conclusión del lema.\n",
    "Adicionalmente para demostrar que un lenguaje no es independiente de contexto o no es regular, se realiza por contradicción. Se supone primero que el lenguaje es regular o independiente de contextos y luego se mira que no existe ninguna descomposición posible que cumpla el lema de bombeo, así se niega la conclusión y tenemos una contradición, por ende necesariamente el lenguaje no debe ser regular o independiente de contexto. \n",
    "\n",
    "**Construyendo el ejemplo**\n",
    "\n",
    "***Lema 1:*** $L''=\\{ab^{n}c^{n}d^{n}: n \\in \\mathbb{N} \\}$ no es independiente de contexto\n",
    "\n",
    "**Demostración:**\n",
    "\n",
    "Sea $L''=\\{ab^{n}c^{n}d^{n}: n \\in \\mathbb{N} \\}$ entonces L2 no es independiente de contexto\n",
    "\n",
    "Tomé P como en el lema de bombeo sea $w=ab^{n}c^{n}d^{n}$ y $w=uvxyz$, $\\left | vxy \\right |\\leq p$ y $\\left | vy \\right |>0$\n",
    "\n",
    "Note que vxy no contiene más de 2 simbolos\n",
    "\n",
    "* Caso1 *\n",
    "vxy contiene solo c's o b's o d's o a\n",
    "entonces $w=uv^{2}xy^{2}z \\notin L''$\n",
    "* Caso2 *\n",
    "vxy contiene solo c's y d's o b's y c's o a y b's \n",
    "entonces $w=uv^{2}xy^{2}z \\notin L''$\n",
    "\n",
    "(Lo anterior se justifica porque ya no hay igualdad entre el número de b's, c's, d's o no hay solo un a)\n",
    "\n",
    "$Q.E.D$\n",
    "\n",
    "Ahora modificaremos el ejemplo de la clase, donde se demuestra un lenguaje que no es regular y cumple el lema de bombeo para lenguajes regulares.\n",
    "\n",
    "Sea $L=\\{a^{i}b^{j}c^{k}d^{m}: i,j,k,m\\in \\mathbb{N} \\ \\wedge \\ i=1\\rightarrow j=k=m \\}$\n",
    "\n",
    "El Lema de bombeo se cumple para p igual a 2( esto implica que hay un simbolo que se repite o una cantidad igual o mayor a 2 de simbolos) siga además el siguiente proceso:\n",
    "\n",
    "- 1) x igual a la cadena vacía.\n",
    "- 2)( caso 1 más de un simbolo ): En caso que haya más de un símbolo, elija 2 2 símbolos que estén cerca( esto hace que sus ''potencias'' sean por lo menos 1),(suponemos que el primer simbolo está mas a la izquierda que el el segundo simbolo)descomponga de la siguiente manera:\n",
    "\n",
    "$w=u \\ simbolo1 \\ ^{1} \\ \\varepsilon \\ simbolo2 \\ ^{1} \\ z$\n",
    "\n",
    "Como el simbolo 1 y el simbolo 2 estan uno seguido del otro x puede ser epsilon, se elijé a u y z tal que ''terminen'' la cadena simbolo, se tiene que La longitud de vxy es menor igual a dos, además la longitud de vy es mayor que 0 y para todo numero natural k, $w=u \\ simbolo1 \\ ^{k} \\ \\varepsilon \\ simbolo2 \\ ^{k} \\ z \\in L$\n",
    "- 2(caso 2 1 simbolo): \n",
    "\n",
    "En este caso, elija todas las subcadenas de la composición de w igual a la cadena vacía, excepto la cadena v, tenemos que la longitud de vxy menor o igual a dos, la longitud de vy mayor a 0 y que pra todo K natural, $v{k}$ pertence a L\n",
    "\n",
    "Vemos entonces que L cumple el lema de bombeo\n",
    "\n",
    "**Lema 2:** Si L es un lenguaje independiente de contextos y L' es un lenguaje regular. Entonces su intersección L'' es independiente de contexto.( Teorema dado en clase)\n",
    "\n",
    "**Lema 3:** L no es independiente de contexto\n",
    "\n",
    "**Demostración**:\n",
    "\n",
    "Definamos $L'=a\\cdot b^{*}\\cdot c^{*}\\cdot d^{*}= \\{ab^{i}c^{j}d^{k}: i,j,k \\in \\mathbb{N} \\}$. L obedece a una expresión regular por ende es una lenguaje regular.\n",
    "\n",
    "Suponga además que L es independiente de contexto. Entonces, la intersección entre L y L' también debe ser independiente de contexto.\n",
    "\n",
    "Pero $L''=L'\\cap L=\\{ab^{n}c^{n}d^{n}: n \\in \\mathbb{N} \\}$\n",
    "\n",
    "Por lema 1 L'' no es independiente de contexto(contradicción), entonces L no es independiente de contexto.\n",
    "\n",
    "$Q.E.D$\n",
    "\n",
    "\n",
    "\n",
    "\n"
   ]
  },
  {
   "cell_type": "markdown",
   "id": "1859e0b1-bf8e-499e-9500-bb20cfe35e34",
   "metadata": {},
   "source": [
    " Sea $\\Sigma = \\{x, y, z\\}$, y sea\n",
    "\n",
    "$$L_1 = \\{x^i y^{i} z^{i+1} \\, : \\, i \\in \\mathbb{N}\\}$$\n",
    "\n",
    "Construya una gramática independiente de contexto $G$ tal que $L_1 = L(G)$. Explique por qué su gramática sirve.\n",
    "Construya un autómata de pila (``pushdown automaton'') $M$ tal que $L_1 = L(M)$. Explique por qué $M$ sirve."
   ]
  },
  {
   "cell_type": "markdown",
   "id": "50cb915b-1aec-4401-a9da-98807cea9899",
   "metadata": {},
   "source": [
    "**La gramática es la siguiente:**\n",
    "\n",
    "**G:**\n",
    "\n",
    "$S\\rightarrow xAz/yBz/\\varepsilon $\n",
    "\n",
    "$A\\rightarrow xAz/B/\\varepsilon $\n",
    "\n",
    "$B\\rightarrow yBz/\\varepsilon $\n",
    "\n",
    "**Explicación:**\n",
    "\n",
    "- Si queremos obtener la cadena vacía, entonces pasamos de $S$ a la cadena vacía.\n",
    "\n",
    "- Si queremos solamente símbolos en $x$ y $z$ entonces pasamos de $S \\ a \\ xAz$ y después de $A \\ a \\ xAz$, cuando tengamos todos los x que queramos, pasamos da $A$ a la cadena vacía. \n",
    "\n",
    "- Si queremos nada más símbolos que contengan a $y$ entonces pasamos de $S \\ a \\ yBz$ y después de $B \\ a \\ yBz$, por último cuando tengamos los y que queramos, pasamos de $B$ a la cadena vacía.\n",
    "\n",
    "- Adicionalmente, si queremos una cadena que contenga $x's \\ y's \\ y \\ z's$, pasamos de $S \\ a \\ xAz$y después de $A \\ a \\ xAz$ cuando tengamos los $x's$ deseados pasamos de $A \\ a \\ b$. Después pasamos de $B \\ a \\ yBz$ y cuando tengamos los $y's$ deseados pasamos de $B$ a la cadena vacía.\n",
    "\n"
   ]
  },
  {
   "cell_type": "markdown",
   "id": "482acb57-8b27-4463-a556-e5c57c938bf9",
   "metadata": {},
   "source": [
    "Demuestre que si $L_1$ es independiente de contexto y $h \\, : \\, L_1 \\rightarrow L_2$ es un homomorfismo $sobreyectivo$, entonces $L_2$ también es independiente de contexto.\n",
    "\n",
    "Suponga que $h \\, : \\, L_1 \\rightarrow L_2$ es un homomorfismo sobreyectivo y que $L_2$ es independiente de contexto.\n",
    "\n",
    "¿Es verdad que $L_1$ tiene que ser independiente de contexto también, o no? Dé una demostración (en caso que sí) o un contraejemplo concreto (en caso que no)."
   ]
  },
  {
   "cell_type": "markdown",
   "id": "ee91f33f-aa52-43cb-96f6-3c0cabfc04b0",
   "metadata": {},
   "source": [
    "**Demostración:**\n",
    "\n",
    "Por hipótesis $L1$ la genera una gramática independiente de contexto, sea $w$ en $L1$ arbitrario, Entonces hay al menos una derivación a la izquierda( hecho de la clase) que genera $w$, al final se generea $w=a1,..am$\n",
    "\n",
    "En cada derivación a la izquierda se agregan símbolos $ai$, evidentemente, en cada derivación podemos reemplazar cada $ai$ por $h(ai)$ y así al final obtener $h(w)=h(a1),...h(am)$.\n",
    "\n",
    "Lo anterior es equivalente a ''codificar'' o ''remplazar'' cada el alfabeto de simbolos terminales $\\{a1,...am\\}$ por $\\{h(a1),... h(am)\\}$ en la gramática de $L1$ para generar otra grámatica independiente de contexto.\n",
    "\n",
    "Además al ser la función sobreyectiva entonces cada cada cadena en $L2$ tiene al menos una cadena asociada en $L1$, esto nos indica que la grámatica anterior genera a $L2$, por ende $L2$  tambien es independiente de contexto.\n",
    "\n",
    "Por último, dado que la función no necesariamente es inyectiva, puede dar el caso que 2 cadenas diferentes de $L1$ generen a una cadena en $L2$, esto se explica por el hecho de que cada $h(ai)$\n",
    "\n",
    "es una cadena y puede haber el caso de que diferentes combinaciones de los $h(ai)'s$ generen a la misma cadena en $\\sum _{2} ^{*}$, por ejemplo:\n",
    "\n",
    "sea $x=101$,$y=1$ y $z=01$ entonces $x=yz$\n",
    "\n",
    "si se suma lo anterior al hecho de que los equivalente en el $\\sum _{1} ^{*} $ de las combinaciones $h(ai)'s$ que generan la misma cadena en $L2$, estan en $L1$, entonces se cumple que $L2$ es\n",
    "\n",
    "ambiagüa, por ende $L2$ no es puede ser ambigüa,tambien puede ser ambigua si hay más de una derivación a la izquierda en $L1$.\n",
    "\n",
    "\n",
    "$Q.E.D$\n"
   ]
  },
  {
   "cell_type": "markdown",
   "id": "60112805-2f12-48aa-9990-0a87071200d7",
   "metadata": {},
   "source": [
    "**Demostración**:\n",
    "\n",
    "Contraejemplo:\n",
    "\n",
    "Sea $\\sum _{1}=\\{a,b,c\\}$ y $\\sum _{2}=\\{a\\}$\n",
    "\n",
    "Sea $L1=\\{a^{n}b^{n}c^{n}: n \\in \\mathbb{N} \\}$ (No es independiente de contexto, se mostró en clase.)\n",
    "\n",
    "Sea $L2=\\{a^{n}:n\\in \\mathbb{N} \\}$  (Es independiente de contexto.)\n",
    "\n",
    "considere:\n",
    "\n",
    "$h: L1\\rightarrow L2$ tal que:\n",
    "\n",
    "si $w=a^{p}b^{p}c^{p}, \\ p \\in \\mathbb{N}$, (evidentemente $w \\in L _{1}$), entonces:\n",
    "\n",
    "$h(w)=a^{p}$\n",
    "\n",
    "defina:\n",
    "\n",
    "$h(a)=a$\n",
    "\n",
    "$h(b)=\\varepsilon$\n",
    "\n",
    "$h(c)=\\varepsilon$\n",
    "\n",
    "entonces es fácil demostrar que h es un homomorfismo, además a simple vista se ve que L1  es sobreyectiva, sin embargo L2 es independiente de contexto y L1 no lo es.\n",
    "\n",
    "$Q.E.D$\n",
    "\n",
    "\n",
    "\n",
    "\n",
    "\n",
    "\n"
   ]
  },
  {
   "cell_type": "markdown",
   "id": "2cf63193",
   "metadata": {},
   "source": [
    "Demuestre que el conjunto de todas las máquinas de turing es enumerable"
   ]
  },
  {
   "cell_type": "markdown",
   "id": "908c8178-9a55-4c3e-a432-1b0d8660e7aa",
   "metadata": {},
   "source": [
    "**Lema1:** El conjunto de todos los lenguajes computables(sipser) es enumerable\n",
    "\n",
    "- The set of all Turing machines is countable because each Turing machine M has an encoding into a string <Mi>.(sipser edicion 3 página 230)\n",
    "    \n",
    "**Lema2** Si $x\\subseteq y$, la cardinalidad de $x$ es infinita y $\\left | y \\right |=\\aleph _{0}\\rightarrow \\left | x \\right |=\\aleph _{0}$(Lema de matemática estructural)\n",
    "    \n",
    "Utilizando lo anterior y el hecho de que los el conjunto de todos los automátas y el conjunto de los automátas de pila son subconjuntos de el conjunto de todas las maquinas de turing(casos especiales,el automáta con pila sole va a la derecha, y el automata ''normal'' no utiliza la pila), entonces por el lema 2 el conjunto de todos los automátas y el conjunto de todos los automatas de pila tienen la misma cardinalidad.\n",
    "Adicionalmente el conjunto de todos los automátas tales que cada automáta reconoce un lenguaje ''diferente al resto de automatas en el mismo conjunto'' y el  conjunto de todos los automátas de pila tales que cada automáta de pila reconoce un lenguaje ''diferente al resto de automátas en el mismo conjunto'' tienen la misma cardinalidad $\\aleph _{0}$, otra vez por el lema 2\n",
    "    \n",
    "$Q.E.D$"
   ]
  },
  {
   "cell_type": "markdown",
   "id": "978be750-3326-4c29-8a63-2d288fc1165b",
   "metadata": {
    "execution": {
     "iopub.execute_input": "2022-04-02T01:57:00.579532Z",
     "iopub.status.busy": "2022-04-02T01:57:00.578535Z",
     "iopub.status.idle": "2022-04-02T01:57:00.600527Z",
     "shell.execute_reply": "2022-04-02T01:57:00.598531Z",
     "shell.execute_reply.started": "2022-04-02T01:57:00.579532Z"
    }
   },
   "source": [
    "his exercise concerns TM M1, whose description and state diagram appear in Ex\u0002ample 3.9. In each of the parts, give the sequence of configurations that M1 enters\n",
    "when started on the indicated input string.\n",
    "\n",
    "**c. 1##1.**\n",
    "\n",
    "**e. 10#10**"
   ]
  },
  {
   "cell_type": "code",
   "execution_count": 2,
   "id": "6430d0ad",
   "metadata": {
    "ExecuteTime": {
     "end_time": "2022-04-11T01:23:17.865137Z",
     "start_time": "2022-04-11T01:23:17.846136Z"
    }
   },
   "outputs": [
    {
     "name": "stdout",
     "output_type": "stream",
     "text": [
      "TMConfiguration('q9', TMTape('x#x..', 4))\n"
     ]
    },
    {
     "data": {
      "text/plain": [
       "TMConfiguration('q9', TMTape('xx#xx..', 6))"
      ]
     },
     "execution_count": 2,
     "metadata": {},
     "output_type": "execute_result"
    }
   ],
   "source": [
    "from automata.tm.dtm import DTM\n",
    "\n",
    "dtm = DTM(\n",
    "    states={'q1','q2','q3','q4','q5','q6','q7','q8','q9'},\n",
    "    input_symbols={'0','1'},\n",
    "    tape_symbols={'0','1','#','.','x'},\n",
    "    transitions={\n",
    "#####################################################\n",
    "        'q1': {\n",
    "            '1': ('q3', 'x', 'R'),\n",
    "            '0': ('q2', 'x', 'R'),\n",
    "            '#': ('q8', '#', 'R')\n",
    "        },\n",
    "#####################################################\n",
    "        \n",
    "        'q2': {\n",
    "            '0': ('q2', '0', 'R'),\n",
    "            '1': ('q2', '1', 'R'), \n",
    "            '#': ('q4', '#', 'R')     \n",
    "        },\n",
    "#####################################################\n",
    "        'q3': {\n",
    "            '0': ('q3', '0', 'R'),\n",
    "            '1': ('q3', '1', 'R'),\n",
    "            '#': ('q5', '#', 'R')\n",
    "        },\n",
    "#####################################################\n",
    "        'q4': {\n",
    "            'x': ('q4', 'x', 'R'),\n",
    "            '0': ('q6', 'x', 'L')\n",
    "        },\n",
    "#####################################################\n",
    "        'q5': {\n",
    "            'x': ('q5', 'x', 'R'),\n",
    "            '1': ('q6', 'x', 'L')\n",
    "        },\n",
    "#####################################################\n",
    "        'q6': {\n",
    "            '0': ('q6', '0', 'L'),\n",
    "            '1': ('q6', '1', 'L'),\n",
    "            'x': ('q6', 'x', 'L'),\n",
    "            '#': ('q7', '#', 'L')\n",
    "        },\n",
    "#####################################################\n",
    "        'q7': {\n",
    "            'x': ('q1', 'x', 'R'),\n",
    "            '0': ('q7', '0', 'L'),\n",
    "            '1': ('q7', '1', 'L')\n",
    "        },\n",
    "#####################################################\n",
    "        'q8': {\n",
    "            'x': ('q8', 'x', 'R'),\n",
    "            '.': ('q9', '.', 'R')\n",
    "        }, \n",
    "#####################################################          \n",
    "    },\n",
    "    initial_state='q1',\n",
    "    blank_symbol='.',\n",
    "    final_states={'q9'}\n",
    ")\n",
    "\n",
    "    \n",
    "print(dtm.read_input('1#1'))\n",
    "dtm.read_input('10#10')\n"
   ]
  },
  {
   "cell_type": "markdown",
   "id": "8a7ccc0c-d571-4c2e-aa06-eae8653d85fc",
   "metadata": {},
   "source": [
    "Give implementation-level descriptions of Turing machines that decide the following languages over the alphabet {0,1}.\n",
    "\n",
    "**b){w| w contains twice as many 0s as 1s}**\n",
    "\n"
   ]
  },
  {
   "cell_type": "markdown",
   "id": "1691bfb0-c795-483c-b15d-b8917edeb3a2",
   "metadata": {},
   "source": [
    "**Paso 1**\n",
    "-Recorra la cinta hasta encontrar el primer 1 sin marcar. Si lo encuentra, devuélvase hacia el inicio de la cinta. De lo contrario, pase al paso 5.\n",
    "\n",
    "**Paso 2**\n",
    "-Lea la cinta. Hasta encontrar un 0 y Táchelo. Si no hay un 0 rechace.\n",
    "\n",
    "**Paso 3**\n",
    "-Continue leyendo la cinta hasta encontrar de nuevo un 0 y tachelo. Si no hay un 0 rechace\n",
    "\n",
    "**Paso 4**\n",
    "-Mueva la cinta hasta el inicio y repita el paso 1\n",
    "\n",
    "**Paso 5**\n",
    "-Devuelvase al inicio de la cinta y leala, si hay un cero rechaze, si no acepte\n",
    "\n"
   ]
  }
 ],
 "metadata": {
  "hide_input": false,
  "kernelspec": {
   "display_name": "Python 3 (ipykernel)",
   "language": "python",
   "name": "python3"
  },
  "language_info": {
   "codemirror_mode": {
    "name": "ipython",
    "version": 3
   },
   "file_extension": ".py",
   "mimetype": "text/x-python",
   "name": "python",
   "nbconvert_exporter": "python",
   "pygments_lexer": "ipython3",
   "version": "3.8.8"
  },
  "latex_envs": {
   "LaTeX_envs_menu_present": true,
   "autoclose": false,
   "autocomplete": true,
   "bibliofile": "biblio.bib",
   "cite_by": "apalike",
   "current_citInitial": 1,
   "eqLabelWithNumbers": true,
   "eqNumInitial": 1,
   "hotkeys": {
    "equation": "Ctrl-E",
    "itemize": "Ctrl-I"
   },
   "labels_anchors": false,
   "latex_user_defs": false,
   "report_style_numbering": false,
   "user_envs_cfg": false
  },
  "nbTranslate": {
   "displayLangs": [
    "*"
   ],
   "hotkey": "alt-t",
   "langInMainMenu": true,
   "sourceLang": "en",
   "targetLang": "fr",
   "useGoogleTranslate": true
  },
  "toc": {
   "base_numbering": 1,
   "nav_menu": {},
   "number_sections": true,
   "sideBar": true,
   "skip_h1_title": false,
   "title_cell": "Table of Contents",
   "title_sidebar": "Contents",
   "toc_cell": false,
   "toc_position": {},
   "toc_section_display": true,
   "toc_window_display": false
  },
  "varInspector": {
   "cols": {
    "lenName": 16,
    "lenType": 16,
    "lenVar": 40
   },
   "kernels_config": {
    "python": {
     "delete_cmd_postfix": "",
     "delete_cmd_prefix": "del ",
     "library": "var_list.py",
     "varRefreshCmd": "print(var_dic_list())"
    },
    "r": {
     "delete_cmd_postfix": ") ",
     "delete_cmd_prefix": "rm(",
     "library": "var_list.r",
     "varRefreshCmd": "cat(var_dic_list()) "
    }
   },
   "types_to_exclude": [
    "module",
    "function",
    "builtin_function_or_method",
    "instance",
    "_Feature"
   ],
   "window_display": false
  },
  "widgets": {
   "application/vnd.jupyter.widget-state+json": {
    "state": {},
    "version_major": 2,
    "version_minor": 0
   }
  }
 },
 "nbformat": 4,
 "nbformat_minor": 5
}
