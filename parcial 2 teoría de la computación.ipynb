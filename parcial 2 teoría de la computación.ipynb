{
 "cells": [
  {
   "cell_type": "markdown",
   "id": "954e2722",
   "metadata": {},
   "source": [
    "# )"
   ]
  },
  {
   "cell_type": "markdown",
   "id": "dab9559f",
   "metadata": {},
   "source": [
    "Utilicemos una máquina de turing con 4 cintas,con la capacidad adicional de que la cabezas de las cintas se pueden quedar quietas(en la explicación la palabra deje intacta o directamente no mencionarlas es equivalente a quedarse quieta)\n",
    "\n",
    "\\textbf{-}La primera cinta se utilizará para leer el input\n",
    "\n",
    "\\textbf{-}La segunda cinta para guardar todos los numeros desde 2(10 en binario), hasta el antecesor número en binario del input\n",
    "\n",
    "\\textbf{-}La tercera cinta cumplirá la función auxiliar de copiar la cinta 3, para poder agregar los siguientes simbolos de una longitud mayor, ya explicaré esto y otra que explicaré\n",
    "\n",
    "\n",
    "Definamos el alfabeto del input como $\\{1,0\\}\\cup\\{\\#,-(signo \\ blanco)\\}$.El signo $\\#$ para separar los números entre 2(10 en binario) y el antecesor del input en binario.\n",
    "\n",
    "\\textbf{Paso1:} \n",
    "De acuerdo a la situación siga uno de los siguientes pasos:\n",
    "\n",
    "Primero lea el input de la primera cinta con (la cabeza de la primera cinta) de izquierda a derecha(no haga nada con las cabezas de las otras cintas, dejelas quieta hasta que se indique) y siga una de las siguientes clausulas\n",
    "\n",
    "a)Si hay 1 simbolo acepte solo si es 1(así acepta al 1 que es un primo y no acepta al 0).\n",
    "\n",
    "b)Si no se cumple a)devuelvase al inicio de la cinta y elimine los 0's anteriores al primer 1,si quedan 2 simbolos acepete(Esto permite aceptar el 2(en binario 10) y el 3 (11 binario) que son primos.\n",
    "\n",
    "c)Si no se cumple a) y b) entonces devuelvase hasta el primer simbolo del input y elimine los 0's anteriores al primer 1,\\textbf{aquí se empieza a utilizar la segunda cinta,la tercera cinta dejela intacta hasta que se diga lo contrario}, muevase a la derecha y en la cinta 2 escriba el primer simbolo(1 evidentemente), despues \\textbf{deje intacta las demas cintas} y escriba en la segunda cinta el simbolo 10,separé por el simbolo $\\#$ y escriba 10,\n",
    "generalizando este paso, copie la información a la cinta 3 y lea la cinta 3, pero para cada cadena codificada en la copia agrega cadena-0(concatenado 0) y cadena-1(concatenado 1), después de realizar lo anterior para cada cadena de la copia, borra la copia y , pasa al siguiente simbolo del input y por el proceso de copia, escribo las cadenas de longitud k+1, siendo k la longitud de las cadenas anteriores.\n",
    "Para ejemplificar, si tengo la cadenas de longitud 3, 111,110,101,1000 entonces me surgiran el doble de cadenas, 2 por cada cadena que haya.\n",
    "Cuando este en el último simbolo del input,agregue el input a la segunda cinta pero con el último simbolo igual a 0(en caso de que el último simbolo sea 1) si el último simbolo es cero, deje intactas la cadenas(no agregue nada a la cinta 2)(note que la cinta 3 está vacía) y pase al paso 2\n",
    "\n",
    "\\textbf{paso 2:}\n",
    "Para cadena codificada en la cinta 2, sume en binario esta cadena consigo misma(Asumiremos que hay una máquina de turing para esto, esta a su vez tiene los detalles verbales de como opera, por simplicidad se deja al lector la comprobación y demostración de este detalle) y agreguela a la cinta 3.\n",
    "verifique que la cadena resultante sea menor que el input(Asumiremos que hay una máquina de turing para esto, esta a su vez tiene los detalles verbales de como opera, por simplicidad se deja al lector la comprobación y demostración de este detalle), haga esto hasta que el número resultante sea mayor que el input o igual, si es igual rechaza, si es mayor, borra la cinta 3 y pasa a la siguiente cadena en 2, el input se acepta si y solo si cada cadena se puede sumar consigo misma hasta que el resultado sea mayor que el input.\n",
    "\n",
    "Como vemos esta máquina para para todo input, si el número es primo ninguno de los números anteriores(2(10 binario) hasta el número anterior del input) sumados consigo mismo n veces logra ser igual al input, si no por el contrario mayor al input. Si el número no es primo entonces algún número entre el rango mencionado logra ser igual y rechaza"
   ]
  },
  {
   "cell_type": "markdown",
   "id": "67b13d33",
   "metadata": {},
   "source": [
    "# )\n",
    "\n"
   ]
  },
  {
   "cell_type": "markdown",
   "id": "76a2f129",
   "metadata": {},
   "source": [
    " ![SNOWFAL](punto2.png)\n"
   ]
  },
  {
   "cell_type": "markdown",
   "id": "02dcfe9f",
   "metadata": {},
   "source": [
    "# )"
   ]
  },
  {
   "cell_type": "code",
   "execution_count": null,
   "id": "4b6adcff",
   "metadata": {},
   "outputs": [],
   "source": []
  },
  {
   "cell_type": "markdown",
   "id": "5e572b02",
   "metadata": {},
   "source": [
    "# )\n",
    " Automáta con pila que reconoce a $\\{ w \\in \\sum^{*}:0^{n}1^{n} n \\in \\mathbb{N}\\}$, $\\sum= \\{ 0,1 \\}$"
   ]
  },
  {
   "cell_type": "code",
   "execution_count": 2,
   "id": "ce8d67d7",
   "metadata": {
    "ExecuteTime": {
     "end_time": "2022-04-09T00:06:14.231335Z",
     "start_time": "2022-04-09T00:06:14.216334Z"
    }
   },
   "outputs": [
    {
     "data": {
      "text/plain": [
       "PDAConfiguration('q5', '', PDAStack())"
      ]
     },
     "execution_count": 2,
     "metadata": {},
     "output_type": "execute_result"
    }
   ],
   "source": [
    "#Cuidado con la sintaxis, es importante que sea igual al ejemplo que está aqui, adicionalmente si al inicio del automáta con pila\n",
    "# existen transiciones epsilon y se agregan simbolos a la pila, porfavor coloque estos simbolos en initial_stack_symbolos\n",
    "#adicionalmente el concepto de cambiar en la pila e-simbolo, equivale a colocar todas las reglas simbolo en sigma-simbolo, esto para evitar errores en el programa\n",
    "# y que solamente se entienda como leer '' a cuando ya no haya simbolos a leer\n",
    "#quitar en la pila se simboliza por estado,'', adicionar a la pila como simbolo pila: (estado,(simbolo,simbolo pila))\n",
    "#remplazar simbolos se reconoce como simbolo pila: (estado,simbolo)\n",
    "# Debido a la las llaves de los diccionarios, si en el mismo estado hay 2 llaves de lectura iguales, ocasionará error,por ende debe\n",
    "#buscar un automáta con pila no determinista\n",
    "from automata.pda.dpda import DPDA\n",
    "dpda = DPDA(\n",
    "    states={'q2','q3','q4','q5'},\n",
    "    input_symbols={'0', '1'},\n",
    "    stack_symbols={'A', 'B','$'},\n",
    "    transitions={\n",
    "#############################################3     \n",
    "        'q2': {\n",
    "            '0': {'$': ('q3', ('A', '$'))}  \n",
    "        },\n",
    "#############################################3     \n",
    "        \n",
    "        'q3': {\n",
    "            '0': {'A': ('q3', ('A', 'A'))},\n",
    "            '1': {'A': ('q4', '')}\n",
    "#############################################3         \n",
    "        },\n",
    "        'q4': {\n",
    "            '1': {'A': ('q4','')},\n",
    "            '' : {'$':('q5','')}\n",
    "#############################################3            \n",
    "        }\n",
    "    },\n",
    "    initial_state='q2',\n",
    "    initial_stack_symbol='$',\n",
    "    final_states={'q5'},\n",
    "    acceptance_mode='final_state'\n",
    ")\n",
    "#Puedo comprobar el lenguaje de esta máquina\n",
    "dpda.read_input('00000111111')"
   ]
  }
 ],
 "metadata": {
  "hide_input": false,
  "kernelspec": {
   "display_name": "Python 3 (ipykernel)",
   "language": "python",
   "name": "python3"
  },
  "language_info": {
   "codemirror_mode": {
    "name": "ipython",
    "version": 3
   },
   "file_extension": ".py",
   "mimetype": "text/x-python",
   "name": "python",
   "nbconvert_exporter": "python",
   "pygments_lexer": "ipython3",
   "version": "3.8.8"
  },
  "latex_envs": {
   "LaTeX_envs_menu_present": true,
   "autoclose": false,
   "autocomplete": true,
   "bibliofile": "biblio.bib",
   "cite_by": "apalike",
   "current_citInitial": 1,
   "eqLabelWithNumbers": true,
   "eqNumInitial": 1,
   "hotkeys": {
    "equation": "Ctrl-E",
    "itemize": "Ctrl-I"
   },
   "labels_anchors": false,
   "latex_user_defs": false,
   "report_style_numbering": false,
   "user_envs_cfg": false
  },
  "nbTranslate": {
   "displayLangs": [
    "*"
   ],
   "hotkey": "alt-t",
   "langInMainMenu": true,
   "sourceLang": "en",
   "targetLang": "fr",
   "useGoogleTranslate": true
  },
  "notify_time": "5",
  "toc": {
   "base_numbering": 1,
   "nav_menu": {},
   "number_sections": true,
   "sideBar": true,
   "skip_h1_title": false,
   "title_cell": "Table of Contents",
   "title_sidebar": "Contents",
   "toc_cell": false,
   "toc_position": {},
   "toc_section_display": true,
   "toc_window_display": false
  },
  "varInspector": {
   "cols": {
    "lenName": 16,
    "lenType": 16,
    "lenVar": 40
   },
   "kernels_config": {
    "python": {
     "delete_cmd_postfix": "",
     "delete_cmd_prefix": "del ",
     "library": "var_list.py",
     "varRefreshCmd": "print(var_dic_list())"
    },
    "r": {
     "delete_cmd_postfix": ") ",
     "delete_cmd_prefix": "rm(",
     "library": "var_list.r",
     "varRefreshCmd": "cat(var_dic_list()) "
    }
   },
   "types_to_exclude": [
    "module",
    "function",
    "builtin_function_or_method",
    "instance",
    "_Feature"
   ],
   "window_display": false
  }
 },
 "nbformat": 4,
 "nbformat_minor": 5
}
